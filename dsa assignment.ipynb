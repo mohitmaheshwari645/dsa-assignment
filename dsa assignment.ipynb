{
 "cells": [
  {
   "cell_type": "markdown",
   "id": "14ac299f-6d88-40d6-b493-c793339d022c",
   "metadata": {},
   "source": [
    "Problem 1: Reverse a singly linked list. Input: 1 -> 2 -> 3 -> 4 -> 5\n",
    "Output: 5 -> 4 -> 3 -> 2 -> 1"
   ]
  },
  {
   "cell_type": "markdown",
   "id": "470d7d5a-89b7-4a7c-b852-341d1624f599",
   "metadata": {},
   "source": [
    "\n",
    "To reverse a singly linked list, you can iterate through the list and change the direction of the pointers. Here's a simple example in Python:"
   ]
  },
  {
   "cell_type": "code",
   "execution_count": 1,
   "id": "fe09c8c0-ec76-441f-83ae-a5b808730cb0",
   "metadata": {},
   "outputs": [
    {
     "name": "stdout",
     "output_type": "stream",
     "text": [
      "5 -> 4 -> 3 -> 2 -> 1 -> "
     ]
    }
   ],
   "source": [
    "class ListNode:\n",
    "    def __init__(self, value=0, next=None):\n",
    "        self.value = value\n",
    "        self.next = next\n",
    "\n",
    "def reverse_linked_list(head):\n",
    "    prev = None\n",
    "    current = head\n",
    "\n",
    "    while current is not None:\n",
    "        next_node = current.next\n",
    "        current.next = prev\n",
    "        prev = current\n",
    "        current = next_node\n",
    "\n",
    "    return prev\n",
    "\n",
    "# Example usage:\n",
    "# Create a linked list: 1 -> 2 -> 3 -> 4 -> 5\n",
    "head = ListNode(1, ListNode(2, ListNode(3, ListNode(4, ListNode(5)))))\n",
    "\n",
    "# Reverse the linked list\n",
    "reversed_head = reverse_linked_list(head)\n",
    "\n",
    "# Print the reversed linked list\n",
    "while reversed_head is not None:\n",
    "    print(reversed_head.value, end=\" -> \")\n",
    "    reversed_head = reversed_head.next\n"
   ]
  },
  {
   "cell_type": "markdown",
   "id": "abf538e8-92c1-4860-9550-6def65a388a1",
   "metadata": {},
   "source": [
    "This code defines a ListNode class to represent each node in the linked list and a reverse_linked_list function to reverse the linked list in-place. The example creates a linked list, reverses it, and then prints the reversed linked list."
   ]
  },
  {
   "cell_type": "markdown",
   "id": "1737eebf-21af-426c-ae6c-41692f4fee1f",
   "metadata": {},
   "source": [
    "\n",
    "Problem 2: Merge two sorted linked lists into one sorted linked list.Input: List 1: 1 -> 3 -> 5, List 2: 2 -> 4 -> 6\n",
    "Output: 1 -> 2 -> 3 -> 4 -> 5 -> 6"
   ]
  },
  {
   "cell_type": "markdown",
   "id": "7ae205d7-f548-4644-a0a9-21007266489d",
   "metadata": {},
   "source": [
    "To merge two sorted linked lists into one sorted linked list, you can compare the values of nodes from both lists at each step and build a new list accordingly. Here's an example in Python:"
   ]
  },
  {
   "cell_type": "code",
   "execution_count": 2,
   "id": "df088120-c6f2-49ca-9835-f003208d6512",
   "metadata": {},
   "outputs": [
    {
     "name": "stdout",
     "output_type": "stream",
     "text": [
      "1 -> 2 -> 3 -> 4 -> 5 -> 6 -> "
     ]
    }
   ],
   "source": [
    "class ListNode:\n",
    "    def __init__(self, value=0, next=None):\n",
    "        self.value = value\n",
    "        self.next = next\n",
    "\n",
    "def merge_sorted_lists(list1, list2):\n",
    "    dummy = ListNode()\n",
    "    current = dummy\n",
    "\n",
    "    while list1 is not None and list2 is not None:\n",
    "        if list1.value < list2.value:\n",
    "            current.next = list1\n",
    "            list1 = list1.next\n",
    "        else:\n",
    "            current.next = list2\n",
    "            list2 = list2.next\n",
    "\n",
    "        current = current.next\n",
    "\n",
    "    # If one of the lists is not empty, append the remaining nodes\n",
    "    if list1 is not None:\n",
    "        current.next = list1\n",
    "    elif list2 is not None:\n",
    "        current.next = list2\n",
    "\n",
    "    return dummy.next\n",
    "\n",
    "# Example usage:\n",
    "# Create two sorted linked lists: 1 -> 3 -> 5 and 2 -> 4 -> 6\n",
    "list1 = ListNode(1, ListNode(3, ListNode(5)))\n",
    "list2 = ListNode(2, ListNode(4, ListNode(6)))\n",
    "\n",
    "# Merge the sorted linked lists\n",
    "merged_list = merge_sorted_lists(list1, list2)\n",
    "\n",
    "# Print the merged sorted linked list\n",
    "while merged_list is not None:\n",
    "    print(merged_list.value, end=\" -> \")\n",
    "    merged_list = merged_list.next\n"
   ]
  },
  {
   "cell_type": "markdown",
   "id": "7c63113a-4345-4edd-8061-15c5dac72bab",
   "metadata": {},
   "source": [
    "This code defines a ListNode class to represent each node in the linked list and a merge_sorted_lists function to merge two sorted linked lists into one sorted linked list. The example creates two sorted linked lists, merges them, and then prints the merged sorted linked list."
   ]
  },
  {
   "cell_type": "markdown",
   "id": "8bd0b681-c46a-4308-87d9-5421cee42d2e",
   "metadata": {},
   "source": [
    "Problem 3: Remove the nth node from the end of a linked list.Input: 1 -> 2 -> 3 -> 4 -> 5, n = 2\n",
    "Output: 1 -> 2 -> 3 -> 5"
   ]
  },
  {
   "cell_type": "markdown",
   "id": "3dbeef9b-dbf1-41a8-9565-093375bb0f7c",
   "metadata": {},
   "source": [
    "\n",
    "To remove the nth node from the end of a linked list, you can use a two-pointer approach. First, move one pointer n nodes ahead, and then move both pointers until the first pointer reaches the end of the list. This way, the second pointer will be pointing to the node that needs to be removed. Here's an example in Python:"
   ]
  },
  {
   "cell_type": "code",
   "execution_count": 3,
   "id": "5ddb415f-1608-4b58-a9ca-c2024fe3ef9e",
   "metadata": {},
   "outputs": [
    {
     "name": "stdout",
     "output_type": "stream",
     "text": [
      "1 -> 2 -> 3 -> 5 -> "
     ]
    }
   ],
   "source": [
    "class ListNode:\n",
    "    def __init__(self, value=0, next=None):\n",
    "        self.value = value\n",
    "        self.next = next\n",
    "\n",
    "def remove_nth_from_end(head, n):\n",
    "    dummy = ListNode(0)\n",
    "    dummy.next = head\n",
    "    first = dummy\n",
    "    second = dummy\n",
    "\n",
    "    # Move first pointer n+1 steps ahead\n",
    "    for _ in range(n + 1):\n",
    "        first = first.next\n",
    "\n",
    "    # Move both pointers until first reaches the end\n",
    "    while first is not None:\n",
    "        first = first.next\n",
    "        second = second.next\n",
    "\n",
    "    # Remove the nth node from the end\n",
    "    second.next = second.next.next\n",
    "\n",
    "    return dummy.next\n",
    "\n",
    "# Example usage:\n",
    "# Create a linked list: 1 -> 2 -> 3 -> 4 -> 5\n",
    "head = ListNode(1, ListNode(2, ListNode(3, ListNode(4, ListNode(5)))))\n",
    "\n",
    "# Remove the 2nd node from the end\n",
    "new_head = remove_nth_from_end(head, 2)\n",
    "\n",
    "# Print the modified linked list\n",
    "while new_head is not None:\n",
    "    print(new_head.value, end=\" -> \")\n",
    "    new_head = new_head.next\n"
   ]
  },
  {
   "cell_type": "markdown",
   "id": "6bf5d61c-2006-449f-924a-c6bbf1052c22",
   "metadata": {},
   "source": [
    "This code defines a ListNode class to represent each node in the linked list and a remove_nth_from_end function to remove the nth node from the end of the linked list using the two-pointer approach. The example creates a linked list, removes the 2nd node from the end, and then prints the modified linked list."
   ]
  },
  {
   "cell_type": "markdown",
   "id": "0f864a2e-14e8-4ee6-a45f-33a864d224fc",
   "metadata": {},
   "source": [
    "\n",
    "Problem 4: Find the intersection point of two linked lists.Input: List 1: 1 -> 2 -> 3 -> 4, List 2: 9 -> 8 -> 3 -> 4\n",
    "Output: Node with value 3"
   ]
  },
  {
   "cell_type": "markdown",
   "id": "166db945-9a62-405b-a3cb-8f1fb280337e",
   "metadata": {},
   "source": [
    "\n",
    "To find the intersection point of two linked lists, you can find the lengths of both lists and then adjust the starting points of the pointers so that they start at the same relative position from the end of the lists. Here's an example in Python:"
   ]
  },
  {
   "cell_type": "code",
   "execution_count": 4,
   "id": "0500bc12-aa00-46f7-a599-4219df95c47a",
   "metadata": {},
   "outputs": [
    {
     "name": "stdout",
     "output_type": "stream",
     "text": [
      "Intersection point value: 3\n"
     ]
    }
   ],
   "source": [
    "class ListNode:\n",
    "    def __init__(self, value=0, next=None):\n",
    "        self.value = value\n",
    "        self.next = next\n",
    "\n",
    "def get_length(head):\n",
    "    length = 0\n",
    "    while head is not None:\n",
    "        length += 1\n",
    "        head = head.next\n",
    "    return length\n",
    "\n",
    "def find_intersection_point(list1, list2):\n",
    "    len1 = get_length(list1)\n",
    "    len2 = get_length(list2)\n",
    "\n",
    "    # Adjust the starting points of the pointers\n",
    "    pointer1, pointer2 = list1, list2\n",
    "    while len1 > len2:\n",
    "        pointer1 = pointer1.next\n",
    "        len1 -= 1\n",
    "    while len2 > len1:\n",
    "        pointer2 = pointer2.next\n",
    "        len2 -= 1\n",
    "\n",
    "    # Move both pointers until they meet at the intersection point\n",
    "    while pointer1 != pointer2:\n",
    "        pointer1 = pointer1.next\n",
    "        pointer2 = pointer2.next\n",
    "\n",
    "    return pointer1\n",
    "\n",
    "# Example usage:\n",
    "# Create two linked lists with an intersection point: 1 -> 2 -> 3 -> 4 and 9 -> 8 -> 3 -> 4\n",
    "list1 = ListNode(1, ListNode(2, ListNode(3, ListNode(4))))\n",
    "list2 = ListNode(9, ListNode(8, list1.next.next))\n",
    "\n",
    "# Find the intersection point\n",
    "intersection_point = find_intersection_point(list1, list2)\n",
    "\n",
    "# Print the value of the intersection point\n",
    "if intersection_point:\n",
    "    print(\"Intersection point value:\", intersection_point.value)\n",
    "else:\n",
    "    print(\"No intersection point\")\n"
   ]
  },
  {
   "cell_type": "markdown",
   "id": "25720154-7858-45b9-9b69-3d26a66d4b4d",
   "metadata": {},
   "source": [
    "This code defines a ListNode class to represent each node in the linked list, a get_length function to calculate the length of a linked list, and a find_intersection_point function to find the intersection point of two linked lists. The example creates two linked lists with an intersection point, finds the intersection point, and then prints the value of the intersection point."
   ]
  },
  {
   "cell_type": "markdown",
   "id": "38b976a8-bf74-47bc-8565-bf94c1f14f6f",
   "metadata": {},
   "source": [
    "Problem 5: Remove duplicates from a sorted linked list.Input: 1 -> 1 -> 2 -> 3 -> 3\n",
    "Output: 1 -> 2 -> 3\n",
    "\n"
   ]
  },
  {
   "cell_type": "markdown",
   "id": "abd59faf-a81a-456d-a92b-fe483252943b",
   "metadata": {},
   "source": [
    "\n",
    "To remove duplicates from a sorted linked list, you can iterate through the list and remove nodes with duplicate values. Here's an example in Python:"
   ]
  },
  {
   "cell_type": "code",
   "execution_count": 5,
   "id": "41f275c4-27d6-48c4-8743-81bd5de59065",
   "metadata": {},
   "outputs": [
    {
     "name": "stdout",
     "output_type": "stream",
     "text": [
      "1 -> 2 -> 3 -> "
     ]
    }
   ],
   "source": [
    "class ListNode:\n",
    "    def __init__(self, value=0, next=None):\n",
    "        self.value = value\n",
    "        self.next = next\n",
    "\n",
    "def remove_duplicates(head):\n",
    "    current = head\n",
    "\n",
    "    while current is not None and current.next is not None:\n",
    "        if current.value == current.next.value:\n",
    "            current.next = current.next.next\n",
    "        else:\n",
    "            current = current.next\n",
    "\n",
    "    return head\n",
    "\n",
    "# Example usage:\n",
    "# Create a sorted linked list with duplicates: 1 -> 1 -> 2 -> 3 -> 3\n",
    "head = ListNode(1, ListNode(1, ListNode(2, ListNode(3, ListNode(3)))))\n",
    "\n",
    "# Remove duplicates\n",
    "new_head = remove_duplicates(head)\n",
    "\n",
    "# Print the modified linked list\n",
    "while new_head is not None:\n",
    "    print(new_head.value, end=\" -> \")\n",
    "    new_head = new_head.next\n"
   ]
  },
  {
   "cell_type": "markdown",
   "id": "aa61daef-f856-4277-a614-e41f8c92c59b",
   "metadata": {},
   "source": [
    "This code defines a ListNode class to represent each node in the linked list and a remove_duplicates function to remove duplicates from a sorted linked list. The example creates a sorted linked list with duplicates, removes the duplicates, and then prints the modified linked list."
   ]
  },
  {
   "cell_type": "markdown",
   "id": "7a8c573f-4c0a-4ac2-88d1-7db0673ff72a",
   "metadata": {},
   "source": [
    "Problem 6: Add two numbers represented by linked lists (where each node contains a single digit).Input: List 1: 2 -> 4 -> 3, List 2: 5 -> 6 -> 4 (represents 342 + 465)\n",
    "Output: 7 -> 0 -> 8 (represents 807)\n",
    "\n"
   ]
  },
  {
   "cell_type": "markdown",
   "id": "857c85f5-d00c-4613-9814-1551ede425e3",
   "metadata": {},
   "source": [
    "\n",
    "To add two numbers represented by linked lists (where each node contains a single digit), you can iterate through both linked lists, sum the corresponding digits along with any carry from the previous addition, and update the result linked list accordingly. Here's an example in Python:"
   ]
  },
  {
   "cell_type": "code",
   "execution_count": 6,
   "id": "04ad71d7-d598-4130-b60c-e558a109ff28",
   "metadata": {},
   "outputs": [
    {
     "name": "stdout",
     "output_type": "stream",
     "text": [
      "7 -> 0 -> 8 -> "
     ]
    }
   ],
   "source": [
    "class ListNode:\n",
    "    def __init__(self, value=0, next=None):\n",
    "        self.value = value\n",
    "        self.next = next\n",
    "\n",
    "def add_two_numbers(list1, list2):\n",
    "    dummy = ListNode()\n",
    "    current = dummy\n",
    "    carry = 0\n",
    "\n",
    "    while list1 is not None or list2 is not None or carry != 0:\n",
    "        # Extract values from the current nodes or use 0 if the node is None\n",
    "        value1 = list1.value if list1 else 0\n",
    "        value2 = list2.value if list2 else 0\n",
    "\n",
    "        # Calculate the sum and carry\n",
    "        total_sum = value1 + value2 + carry\n",
    "        carry = total_sum // 10\n",
    "        digit = total_sum % 10\n",
    "\n",
    "        # Create a new node with the calculated digit\n",
    "        current.next = ListNode(digit)\n",
    "        current = current.next\n",
    "\n",
    "        # Move to the next nodes if available\n",
    "        if list1:\n",
    "            list1 = list1.next\n",
    "        if list2:\n",
    "            list2 = list2.next\n",
    "\n",
    "    return dummy.next\n",
    "\n",
    "# Example usage:\n",
    "# Create two linked lists representing numbers: 2 -> 4 -> 3 and 5 -> 6 -> 4\n",
    "list1 = ListNode(2, ListNode(4, ListNode(3)))\n",
    "list2 = ListNode(5, ListNode(6, ListNode(4)))\n",
    "\n",
    "# Add the two numbers\n",
    "result = add_two_numbers(list1, list2)\n",
    "\n",
    "# Print the result\n",
    "while result is not None:\n",
    "    print(result.value, end=\" -> \")\n",
    "    result = result.next\n"
   ]
  },
  {
   "cell_type": "markdown",
   "id": "b853504e-4244-4045-9093-6cc83cd0bbc7",
   "metadata": {},
   "source": [
    "This code defines a ListNode class to represent each node in the linked list and an add_two_numbers function to add two numbers represented by linked lists. The example creates two linked lists representing numbers (342 and 465), adds them, and then prints the result (807).\n",
    "\n",
    "\n",
    "\n",
    "\n",
    "\n",
    "\n"
   ]
  },
  {
   "cell_type": "markdown",
   "id": "799b8038-f402-4ca5-8ac6-daf3bf618f29",
   "metadata": {},
   "source": [
    "Problem 7: Swap nodes in pairs in a linked list.Input: 1 -> 2 -> 3 -> 4\n",
    "Output: 2 -> 1 -> 4 -> 3"
   ]
  },
  {
   "cell_type": "markdown",
   "id": "10efd12a-6b9b-42fe-a2fb-f3116dc4e13f",
   "metadata": {},
   "source": [
    "To swap nodes in pairs in a linked list, you can iterate through the list and swap adjacent nodes in pairs. Here's an example in Python:"
   ]
  },
  {
   "cell_type": "code",
   "execution_count": 7,
   "id": "7c5b028d-4d1a-439b-8d7a-e85682f508c1",
   "metadata": {},
   "outputs": [
    {
     "name": "stdout",
     "output_type": "stream",
     "text": [
      "2 -> 1 -> 4 -> 3 -> "
     ]
    }
   ],
   "source": [
    "class ListNode:\n",
    "    def __init__(self, value=0, next=None):\n",
    "        self.value = value\n",
    "        self.next = next\n",
    "\n",
    "def swap_pairs(head):\n",
    "    dummy = ListNode()\n",
    "    dummy.next = head\n",
    "    current = dummy\n",
    "\n",
    "    while current.next is not None and current.next.next is not None:\n",
    "        # Nodes to be swapped\n",
    "        node1 = current.next\n",
    "        node2 = current.next.next\n",
    "\n",
    "        # Perform the swap\n",
    "        current.next = node2\n",
    "        node1.next = node2.next\n",
    "        node2.next = node1\n",
    "\n",
    "        # Move to the next pair\n",
    "        current = node1\n",
    "\n",
    "    return dummy.next\n",
    "\n",
    "# Example usage:\n",
    "# Create a linked list: 1 -> 2 -> 3 -> 4\n",
    "head = ListNode(1, ListNode(2, ListNode(3, ListNode(4))))\n",
    "\n",
    "# Swap nodes in pairs\n",
    "new_head = swap_pairs(head)\n",
    "\n",
    "# Print the modified linked list\n",
    "while new_head is not None:\n",
    "    print(new_head.value, end=\" -> \")\n",
    "    new_head = new_head.next\n"
   ]
  },
  {
   "cell_type": "markdown",
   "id": "f21f707e-2d7d-4c12-a3f7-ba19be7b0845",
   "metadata": {},
   "source": [
    "This code defines a ListNode class to represent each node in the linked list and a swap_pairs function to swap nodes in pairs in a linked list. The example creates a linked list, swaps nodes in pairs, and then prints the modified linked list."
   ]
  },
  {
   "cell_type": "markdown",
   "id": "2e396182-33a3-4090-aef5-811c001046c2",
   "metadata": {},
   "source": [
    "Problem 8: Reverse nodes in a linked list in groups of k.Input: 1 -> 2 -> 3 -> 4 -> 5, k = 3\n",
    "Output: 3 -> 2 -> 1 -> 4 -> 5"
   ]
  },
  {
   "cell_type": "markdown",
   "id": "fa671ee7-ae02-470f-ab13-cd8d68d431f9",
   "metadata": {},
   "source": [
    "To reverse nodes in a linked list in groups of k, you can iterate through the list and reverse each group of k nodes. Here's an example in Python:"
   ]
  },
  {
   "cell_type": "code",
   "execution_count": 8,
   "id": "40d24dc2-a6c6-4472-b743-af468e2181be",
   "metadata": {},
   "outputs": [
    {
     "name": "stdout",
     "output_type": "stream",
     "text": [
      "3 -> 2 -> 1 -> 4 -> 5 -> "
     ]
    }
   ],
   "source": [
    "class ListNode:\n",
    "    def __init__(self, value=0, next=None):\n",
    "        self.value = value\n",
    "        self.next = next\n",
    "\n",
    "def reverse_k_group(head, k):\n",
    "    def reverse_linked_list(start, end):\n",
    "        prev, current = None, start\n",
    "        while current != end:\n",
    "            next_node = current.next\n",
    "            current.next = prev\n",
    "            prev = current\n",
    "            current = next_node\n",
    "        return prev\n",
    "\n",
    "    dummy = ListNode()\n",
    "    dummy.next = head\n",
    "    prev_group_end = dummy\n",
    "    current = head\n",
    "\n",
    "    while current is not None:\n",
    "        group_start = current\n",
    "        group_end = current\n",
    "\n",
    "        # Move k nodes to find the end of the group\n",
    "        for _ in range(k - 1):\n",
    "            if group_end.next is not None:\n",
    "                group_end = group_end.next\n",
    "            else:\n",
    "                # If there are fewer than k nodes, no need to reverse\n",
    "                return dummy.next\n",
    "\n",
    "        next_group_start = group_end.next\n",
    "\n",
    "        # Reverse the current group\n",
    "        reverse_linked_list(group_start, next_group_start)\n",
    "\n",
    "        # Connect the reversed group to the previous group\n",
    "        prev_group_end.next = group_end\n",
    "        group_start.next = next_group_start\n",
    "\n",
    "        # Update pointers for the next iteration\n",
    "        prev_group_end = group_start\n",
    "        current = next_group_start\n",
    "\n",
    "    return dummy.next\n",
    "\n",
    "# Example usage:\n",
    "# Create a linked list: 1 -> 2 -> 3 -> 4 -> 5\n",
    "head = ListNode(1, ListNode(2, ListNode(3, ListNode(4, ListNode(5)))))\n",
    "\n",
    "# Reverse nodes in groups of k (k = 3)\n",
    "new_head = reverse_k_group(head, 3)\n",
    "\n",
    "# Print the modified linked list\n",
    "while new_head is not None:\n",
    "    print(new_head.value, end=\" -> \")\n",
    "    new_head = new_head.next\n"
   ]
  },
  {
   "cell_type": "markdown",
   "id": "99c08879-6d8b-4ea9-a9d7-ef594925332d",
   "metadata": {},
   "source": [
    "This code defines a ListNode class to represent each node in the linked list and a reverse_k_group function to reverse nodes in a linked list in groups of k. The example creates a linked list, reverses nodes in groups of 3, and then prints the modified linked list."
   ]
  },
  {
   "cell_type": "markdown",
   "id": "9c9cefe2-5d5a-4630-b64c-a3b8edda240f",
   "metadata": {},
   "source": [
    "Problem 9: Determine if a linked list is a palindrome.Input: 1 -> 2 -> 2 -> 1\n",
    "Output: True"
   ]
  },
  {
   "cell_type": "markdown",
   "id": "589b769b-3d80-43fc-9d7a-bbb45db43739",
   "metadata": {},
   "source": [
    "\n",
    "To determine if a linked list is a palindrome, you can use the approach of reversing the second half of the linked list and comparing it with the first half. Here's an example in Python:"
   ]
  },
  {
   "cell_type": "code",
   "execution_count": 9,
   "id": "88687dba-8b3d-41f3-b571-d79d0dddde87",
   "metadata": {},
   "outputs": [
    {
     "name": "stdout",
     "output_type": "stream",
     "text": [
      "True\n"
     ]
    }
   ],
   "source": [
    "class ListNode:\n",
    "    def __init__(self, value=0, next=None):\n",
    "        self.value = value\n",
    "        self.next = next\n",
    "\n",
    "def is_palindrome(head):\n",
    "    def reverse_linked_list(node):\n",
    "        prev = None\n",
    "        current = node\n",
    "        while current is not None:\n",
    "            next_node = current.next\n",
    "            current.next = prev\n",
    "            prev = current\n",
    "            current = next_node\n",
    "        return prev\n",
    "\n",
    "    slow = head\n",
    "    fast = head\n",
    "\n",
    "    # Find the middle of the linked list using the slow and fast pointers\n",
    "    while fast is not None and fast.next is not None:\n",
    "        slow = slow.next\n",
    "        fast = fast.next.next\n",
    "\n",
    "    # Reverse the second half of the linked list\n",
    "    second_half_reversed = reverse_linked_list(slow)\n",
    "\n",
    "    # Compare the first half with the reversed second half\n",
    "    while second_half_reversed is not None:\n",
    "        if head.value != second_half_reversed.value:\n",
    "            return False\n",
    "        head = head.next\n",
    "        second_half_reversed = second_half_reversed.next\n",
    "\n",
    "    return True\n",
    "\n",
    "# Example usage:\n",
    "# Create a linked list: 1 -> 2 -> 2 -> 1\n",
    "head = ListNode(1, ListNode(2, ListNode(2, ListNode(1))))\n",
    "\n",
    "# Check if the linked list is a palindrome\n",
    "result = is_palindrome(head)\n",
    "\n",
    "# Print the result\n",
    "print(result)\n"
   ]
  },
  {
   "cell_type": "markdown",
   "id": "3e9e198d-c210-4603-9e32-4ef802c01876",
   "metadata": {},
   "source": [
    "This code defines a ListNode class to represent each node in the linked list and an is_palindrome function to determine if a linked list is a palindrome. The example creates a linked list, checks if it is a palindrome, and then prints the result (True in this case)."
   ]
  },
  {
   "cell_type": "markdown",
   "id": "eb6a256a-5d81-4460-925e-af36569b1ac6",
   "metadata": {},
   "source": [
    "Problem 10: Rotate a linked list to the right by k places.Input: 1 -> 2 -> 3 -> 4 -> 5, k = 2\n",
    "Output: 4 -> 5 -> 1 -> 2 -> 3"
   ]
  },
  {
   "cell_type": "markdown",
   "id": "dc9d63de-7ede-4ee2-a5f3-1455f36da882",
   "metadata": {},
   "source": [
    "\n",
    "To rotate a linked list to the right by k places, you can find the length of the linked list and then determine the new head and tail positions after rotation. Here's an example in Python"
   ]
  },
  {
   "cell_type": "code",
   "execution_count": 10,
   "id": "42b64caa-6423-410d-bfa0-3fbc05c540e3",
   "metadata": {},
   "outputs": [
    {
     "name": "stdout",
     "output_type": "stream",
     "text": [
      "4 -> 5 -> 1 -> 2 -> 3 -> "
     ]
    }
   ],
   "source": [
    "class ListNode:\n",
    "    def __init__(self, value=0, next=None):\n",
    "        self.value = value\n",
    "        self.next = next\n",
    "\n",
    "def rotate_right(head, k):\n",
    "    if not head or k == 0:\n",
    "        return head\n",
    "\n",
    "    # Find the length of the linked list\n",
    "    length = 1\n",
    "    tail = head\n",
    "    while tail.next is not None:\n",
    "        length += 1\n",
    "        tail = tail.next\n",
    "\n",
    "    # Calculate the effective rotation\n",
    "    k = k % length\n",
    "\n",
    "    if k == 0:\n",
    "        return head\n",
    "\n",
    "    # Find the new head and tail positions\n",
    "    new_head_position = length - k\n",
    "    new_tail_position = new_head_position - 1\n",
    "    current = head\n",
    "\n",
    "    for _ in range(new_tail_position):\n",
    "        current = current.next\n",
    "\n",
    "    new_head = current.next\n",
    "    current.next = None\n",
    "    tail.next = head\n",
    "\n",
    "    return new_head\n",
    "\n",
    "# Example usage:\n",
    "# Create a linked list: 1 -> 2 -> 3 -> 4 -> 5\n",
    "head = ListNode(1, ListNode(2, ListNode(3, ListNode(4, ListNode(5)))))\n",
    "\n",
    "# Rotate the linked list to the right by k = 2 places\n",
    "new_head = rotate_right(head, 2)\n",
    "\n",
    "# Print the rotated linked list\n",
    "while new_head is not None:\n",
    "    print(new_head.value, end=\" -> \")\n",
    "    new_head = new_head.next\n"
   ]
  },
  {
   "cell_type": "markdown",
   "id": "a1c0754f-46c6-49e9-80c0-6ab6ff304153",
   "metadata": {},
   "source": [
    "This code defines a ListNode class to represent each node in the linked list and a rotate_right function to rotate a linked list to the right by k places. The example creates a linked list, rotates it to the right by 2 places, and then prints the rotated linked list."
   ]
  },
  {
   "cell_type": "markdown",
   "id": "dc478d28-369c-427f-bb58-079d8df37d52",
   "metadata": {},
   "source": [
    "Problem 11: Flatten a multilevel doubly linked list.Input: 1 <-> 2 <-> 3 <-> 7 <-> 8 <-> 11 -> 12, 4 <-> 5 -> 9 -> 10, 6 -> 13\n",
    "Output: 1 <-> 2 <-> 3 <-> 4 <-> 5 <-> 6 <-> 7 <-> 8 <-> 9 <-> 10 <-> 11 <-> 12 <-> 13"
   ]
  },
  {
   "cell_type": "markdown",
   "id": "1a3c3a26-dfb3-40f9-b44f-70ff20d89625",
   "metadata": {},
   "source": [
    "To flatten a multilevel doubly linked list, you can use a depth-first traversal approach. Here's an example in Python:"
   ]
  },
  {
   "cell_type": "code",
   "execution_count": 11,
   "id": "9b7a6fcc-836d-42ce-8323-43fd941c3d9f",
   "metadata": {},
   "outputs": [
    {
     "data": {
      "text/plain": [
       "<__main__.Node at 0x11ed054d990>"
      ]
     },
     "execution_count": 11,
     "metadata": {},
     "output_type": "execute_result"
    }
   ],
   "source": [
    "class Node:\n",
    "    def __init__(self, value=0, prev=None, next=None, child=None):\n",
    "        self.value = value\n",
    "        self.prev = prev\n",
    "        self.next = next\n",
    "        self.child = child\n",
    "\n",
    "def flatten_multilevel_linked_list(head):\n",
    "    def flatten_helper(node):\n",
    "        current = node\n",
    "\n",
    "        while current is not None:\n",
    "            if current.child is not None:\n",
    "                next_node = current.next\n",
    "                child_tail = flatten_helper(current.child)\n",
    "\n",
    "                current.next = current.child\n",
    "                current.child.prev = current\n",
    "                current.child = None\n",
    "\n",
    "                if next_node is not None:\n",
    "                    child_tail.next = next_node\n",
    "                    next_node.prev = child_tail\n",
    "\n",
    "                current = next_node\n",
    "            else:\n",
    "                current = current.next\n",
    "\n",
    "        while current.next is not None:\n",
    "            current = current.next\n",
    "\n",
    "        return current\n",
    "\n",
    "    if head is not None:\n",
    "        flatten_helper(head)\n",
    "\n",
    "    return head\n",
    "\n",
    "# Example usage:\n",
    "# Create a multilevel doubly linked list: 1 <-> 2 <-> 3 <-> 7 <-> 8 <-> 11 -> 12, 4 <-> 5 -> 9 -> 10, 6 -> 13\n",
    "head = Node(1)\n",
    "head.next = Node(2)\n",
    "head.next.prev = head\n",
    "head.next.next = Node(3)\n",
    "head.next.next.prev = head.next\n",
    "head.next.next.next = Node(7)\n",
    "head.next.next.next.prev = head.next.next\n",
    "head.next.next.next.next = Node(8)\n",
    "head.next.next.next.next.prev = head.next.next.next\n",
    "head.next.next.next.next.next = Node(11)\n",
    "head.next.next.next.next.next.prev = head.next.next.next.next\n",
    "head.next.next.next.next.next.next = Node(12)\n",
    "head.next.next.next.next.next.next.prev = head.next.next.next.next.next\n",
    "head.next.next.next.next.next.next.child = Node(4)\n",
    "head.next.next.next.next.next.next.child.next = Node(5)\n",
    "head.next.next.next.next.next.next.child.next.prev = head.next.next.next.next.next.next.child\n",
    "head.next.next.next.next.next.next.child.next.next = Node(9)\n",
    "head.next.next.next.next.next.next.child.next.next.prev = head.next.next.next.next.next.next.child.next\n",
    "head.next.next.next.next.next.next.child.next.next.next = Node(10)\n",
    "head.next.next.next.next.next.next.child.next.next.next.prev = head.next.next.next.next.next.next.child.next\n",
    "head.next.next.next.next\n"
   ]
  },
  {
   "cell_type": "markdown",
   "id": "0aede978-484a-41c8-8466-9a4b1673440b",
   "metadata": {},
   "source": [
    "\n",
    "This code defines a `Node` class to represent each node in the multilevel doubly linked list and a `flatten_multilevel_linked_list` function to flatten the multilevel doubly linked list. The example creates a multilevel doubly linked list, flattens it, and then prints the flattened linked list.\n"
   ]
  },
  {
   "cell_type": "markdown",
   "id": "41724327-3446-48c0-93e7-5a04f91af75a",
   "metadata": {},
   "source": [
    "Problem 12: Rearrange a linked list such that all even positioned nodes are placed at the end.Input: 1 -> 2 -> 3 -> 4 -> 5\n",
    "Output: 1 -> 3 -> 5 -> 2 -> 4"
   ]
  },
  {
   "cell_type": "markdown",
   "id": "173b36c3-dde8-4955-be6c-df3f50165be1",
   "metadata": {},
   "source": [
    "To rearrange a linked list such that all even positioned nodes are placed at the end, you can follow these steps:\n",
    "\n",
    "Traverse the linked list to create two separate lists: one for odd-positioned nodes and one for even-positioned nodes.\n",
    "Concatenate the odd-positioned list with the even-positioned list.\n",
    "Here's an example implementation in Python:"
   ]
  },
  {
   "cell_type": "code",
   "execution_count": 12,
   "id": "7bb489a6-63d7-494c-b9e9-a7300f9620cd",
   "metadata": {},
   "outputs": [
    {
     "name": "stdout",
     "output_type": "stream",
     "text": [
      "1 -> 3 -> 5 -> 2 -> 4 -> "
     ]
    }
   ],
   "source": [
    "class ListNode:\n",
    "    def __init__(self, value=0, next=None):\n",
    "        self.value = value\n",
    "        self.next = next\n",
    "\n",
    "def rearrange_linked_list(head):\n",
    "    if head is None or head.next is None:\n",
    "        return head\n",
    "\n",
    "    # Separate the linked list into odd and even lists\n",
    "    odd_head, even_head = head, head.next\n",
    "    odd_current, even_current = odd_head, even_head\n",
    "\n",
    "    while even_current is not None and even_current.next is not None:\n",
    "        odd_current.next = even_current.next\n",
    "        odd_current = odd_current.next\n",
    "\n",
    "        even_current.next = odd_current.next\n",
    "        even_current = even_current.next\n",
    "\n",
    "    # Concatenate the odd list with the even list\n",
    "    odd_current.next = even_head\n",
    "\n",
    "    return odd_head\n",
    "\n",
    "# Example usage:\n",
    "# Create a linked list: 1 -> 2 -> 3 -> 4 -> 5\n",
    "head = ListNode(1, ListNode(2, ListNode(3, ListNode(4, ListNode(5)))))\n",
    "\n",
    "# Rearrange the linked list\n",
    "new_head = rearrange_linked_list(head)\n",
    "\n",
    "# Print the rearranged linked list\n",
    "while new_head is not None:\n",
    "    print(new_head.value, end=\" -> \")\n",
    "    new_head = new_head.next\n"
   ]
  },
  {
   "cell_type": "markdown",
   "id": "bdd08c67-e3b6-453f-98f4-5679d9c872f8",
   "metadata": {},
   "source": [
    "This code defines a ListNode class to represent each node in the linked list and a rearrange_linked_list function to rearrange the linked list such that all even-positioned nodes are placed at the end. The example creates a linked list, rearranges it, and then prints the rearranged linked list."
   ]
  },
  {
   "cell_type": "markdown",
   "id": "29ce97b0-a381-45b0-922c-5d4befa34bcf",
   "metadata": {},
   "source": [
    "Problem 13: Given a non-negative number represented as a linked list, add one to it.Input: 1 -> 2 -> 3 (represents the number 123)\n",
    "Output: 1 -> 2 -> 4 (represents the number 124)"
   ]
  },
  {
   "cell_type": "markdown",
   "id": "88c6e3a1-a67b-419e-8afc-7e99e5da22ed",
   "metadata": {},
   "source": [
    "To add one to a non-negative number represented as a linked list, you can traverse the linked list in reverse order, add one to the least significant digit, and handle any carry that may occur. Here's an example implementation in Python:"
   ]
  },
  {
   "cell_type": "code",
   "execution_count": 13,
   "id": "711215ba-bbaa-476b-ad18-573ddbe179d6",
   "metadata": {},
   "outputs": [
    {
     "name": "stdout",
     "output_type": "stream",
     "text": [
      "1 -> 2 -> 4 -> "
     ]
    }
   ],
   "source": [
    "class ListNode:\n",
    "    def __init__(self, value=0, next=None):\n",
    "        self.value = value\n",
    "        self.next = next\n",
    "\n",
    "def add_one_to_linked_list(head):\n",
    "    dummy = ListNode(0)\n",
    "    dummy.next = head\n",
    "    current = head\n",
    "    last_non_nine = dummy\n",
    "\n",
    "    # Find the rightmost non-nine digit (if any)\n",
    "    while current is not None:\n",
    "        if current.value != 9:\n",
    "            last_non_nine = current\n",
    "        current = current.next\n",
    "\n",
    "    # Increment the rightmost non-nine digit (if any)\n",
    "    last_non_nine.value += 1\n",
    "\n",
    "    # Set all digits to the right of the incremented digit to zero\n",
    "    current = last_non_nine.next\n",
    "    while current is not None:\n",
    "        current.value = 0\n",
    "        current = current.next\n",
    "\n",
    "    # If the dummy's value is still 0, it means a new digit has been added\n",
    "    if dummy.value == 0:\n",
    "        return dummy.next\n",
    "    else:\n",
    "        return dummy\n",
    "\n",
    "# Example usage:\n",
    "# Create a linked list representing the number 123\n",
    "head = ListNode(1, ListNode(2, ListNode(3)))\n",
    "\n",
    "# Add one to the linked list\n",
    "new_head = add_one_to_linked_list(head)\n",
    "\n",
    "# Print the result\n",
    "while new_head is not None:\n",
    "    print(new_head.value, end=\" -> \")\n",
    "    new_head = new_head.next\n"
   ]
  },
  {
   "cell_type": "markdown",
   "id": "41abd3b1-4a75-4a5d-854d-167dd90cb0ef",
   "metadata": {},
   "source": [
    "This code defines a ListNode class to represent each node in the linked list and an add_one_to_linked_list function to add one to a non-negative number represented as a linked list. The example creates a linked list representing the number 123, adds one to it, and then prints the result (124)."
   ]
  },
  {
   "cell_type": "markdown",
   "id": "0c3e9515-892b-4308-8156-8f1a1488771d",
   "metadata": {},
   "source": [
    "Problem 14: Given a sorted array and a target value, return the index if the target is found. If not, return the\n",
    "index where it would be inserted.Input: nums = [1, 3, 5, 6], target = 5\n",
    "Output: 2"
   ]
  },
  {
   "cell_type": "markdown",
   "id": "8833c9a4-8b46-4851-8f53-029319395595",
   "metadata": {},
   "source": [
    "You can solve this problem using binary search. Here's a Python function that takes a sorted array and a target value as input and returns the index where the target is found or the index where it would be inserted:"
   ]
  },
  {
   "cell_type": "code",
   "execution_count": 14,
   "id": "c0cc8bc1-2f88-42ae-881f-d46c9716eeb4",
   "metadata": {},
   "outputs": [
    {
     "name": "stdout",
     "output_type": "stream",
     "text": [
      "2\n"
     ]
    }
   ],
   "source": [
    "def search_insert_position(nums, target):\n",
    "    left, right = 0, len(nums) - 1\n",
    "\n",
    "    while left <= right:\n",
    "        mid = left + (right - left) // 2\n",
    "\n",
    "        if nums[mid] == target:\n",
    "            return mid\n",
    "        elif nums[mid] < target:\n",
    "            left = mid + 1\n",
    "        else:\n",
    "            right = mid - 1\n",
    "\n",
    "    return left\n",
    "\n",
    "# Example usage:\n",
    "nums = [1, 3, 5, 6]\n",
    "target = 5\n",
    "result = search_insert_position(nums, target)\n",
    "print(result)\n"
   ]
  },
  {
   "cell_type": "markdown",
   "id": "96563c43-c79d-41ba-bfd9-41311dda2910",
   "metadata": {},
   "source": [
    "In this example, the search_insert_position function uses binary search to find the target or the position where it should be inserted. If the target is found, the function returns the index. If not, the function returns the index where the target would be inserted, which is the left pointer at the end of the binary search. The output for the given example would be 2."
   ]
  },
  {
   "cell_type": "markdown",
   "id": "5ac2adf2-d0e0-4a21-9f0b-dbbdd5417e3f",
   "metadata": {},
   "source": [
    "Problem 15: Find the minimum element in a rotated sorted array.Input: [4, 5, 6, 7, 0, 1, 2]\n",
    "Output: 0"
   ]
  },
  {
   "cell_type": "markdown",
   "id": "92b7cbc7-2b8d-4c33-8a05-bd982f1e32f2",
   "metadata": {},
   "source": [
    "\n",
    "To find the minimum element in a rotated sorted array, you can use a modified binary search. Here's a Python function that does this:"
   ]
  },
  {
   "cell_type": "code",
   "execution_count": 15,
   "id": "f0ad1dac-652a-4dcf-85a8-a3148943340a",
   "metadata": {},
   "outputs": [
    {
     "name": "stdout",
     "output_type": "stream",
     "text": [
      "0\n"
     ]
    }
   ],
   "source": [
    "def find_min_in_rotated_sorted_array(nums):\n",
    "    left, right = 0, len(nums) - 1\n",
    "\n",
    "    while left < right:\n",
    "        mid = left + (right - left) // 2\n",
    "\n",
    "        if nums[mid] > nums[right]:\n",
    "            # Minimum must be in the right half\n",
    "            left = mid + 1\n",
    "        else:\n",
    "            # Minimum must be in the left half or at the mid index\n",
    "            right = mid\n",
    "\n",
    "    return nums[left]\n",
    "\n",
    "# Example usage:\n",
    "nums = [4, 5, 6, 7, 0, 1, 2]\n",
    "result = find_min_in_rotated_sorted_array(nums)\n",
    "print(result)\n"
   ]
  },
  {
   "cell_type": "markdown",
   "id": "e2030bc7-6c36-4173-a996-997eb09cc505",
   "metadata": {},
   "source": [
    "In this example, the find_min_in_rotated_sorted_array function uses a binary search approach. It compares the middle element (nums[mid]) with the rightmost element (nums[right]). If nums[mid] > nums[right], it means the minimum element must be in the right half of the array, so we adjust the left pointer. Otherwise, the minimum element is either at the mid index or in the left half, so we adjust the right pointer.\n",
    "\n",
    "The output for the given example would be 0."
   ]
  },
  {
   "cell_type": "markdown",
   "id": "b7d62fde-680e-4cd1-8f72-5bf2a52e7e1e",
   "metadata": {},
   "source": [
    "Problem 16: Search for a target value in a rotated sorted array.Input: nums = [4, 5, 6, 7, 0, 1, 2], target = 0\n",
    "Output: 4"
   ]
  },
  {
   "cell_type": "markdown",
   "id": "159e6918-1939-4cc4-8f63-a212ed23b81c",
   "metadata": {},
   "source": [
    "To search for a target value in a rotated sorted array, you can use a modified binary search similar to the previous problem. Here's a Python function that does this:"
   ]
  },
  {
   "cell_type": "code",
   "execution_count": 16,
   "id": "33c58c5b-65fa-4763-8283-d017e996b15a",
   "metadata": {},
   "outputs": [
    {
     "name": "stdout",
     "output_type": "stream",
     "text": [
      "4\n"
     ]
    }
   ],
   "source": [
    "def search_in_rotated_sorted_array(nums, target):\n",
    "    left, right = 0, len(nums) - 1\n",
    "\n",
    "    while left <= right:\n",
    "        mid = left + (right - left) // 2\n",
    "\n",
    "        if nums[mid] == target:\n",
    "            return mid\n",
    "\n",
    "        # Check which half is sorted\n",
    "        if nums[left] <= nums[mid]:\n",
    "            # Left half is sorted\n",
    "            if nums[left] <= target < nums[mid]:\n",
    "                right = mid - 1\n",
    "            else:\n",
    "                left = mid + 1\n",
    "        else:\n",
    "            # Right half is sorted\n",
    "            if nums[mid] < target <= nums[right]:\n",
    "                left = mid + 1\n",
    "            else:\n",
    "                right = mid - 1\n",
    "\n",
    "    return -1\n",
    "\n",
    "# Example usage:\n",
    "nums = [4, 5, 6, 7, 0, 1, 2]\n",
    "target = 0\n",
    "result = search_in_rotated_sorted_array(nums, target)\n",
    "print(result)\n"
   ]
  },
  {
   "cell_type": "markdown",
   "id": "94fdeac1-347f-4c42-aeb3-e2b40d1f3474",
   "metadata": {},
   "source": [
    "In this example, the search_in_rotated_sorted_array function uses a modified binary search. It first checks whether the left or right half of the current range is sorted. Based on this information, it determines whether the target is in the sorted half or the rotated half and adjusts the pointers accordingly.\n",
    "\n",
    "The output for the given example would be 4, indicating that the target value 0 is found at index 4 in the rotated sorted array."
   ]
  },
  {
   "cell_type": "markdown",
   "id": "69d1985f-c266-44ea-9b2b-d963911ee3ce",
   "metadata": {},
   "source": [
    "Problem 17: Find the peak element in an array. A peak element is greater than its neighbors.Input: nums = [1, 2, 3, 1]\n",
    "Output: 2 (index of peak element)"
   ]
  },
  {
   "cell_type": "markdown",
   "id": "545b7d1d-b8b6-4f8b-91d0-5781e8280f66",
   "metadata": {},
   "source": [
    "To find a peak element in an array, you can use a binary search approach. Here's a Python function that does this:"
   ]
  },
  {
   "cell_type": "code",
   "execution_count": 17,
   "id": "d439d2dd-8cff-4807-80c2-14c7efecfb67",
   "metadata": {},
   "outputs": [
    {
     "name": "stdout",
     "output_type": "stream",
     "text": [
      "2\n"
     ]
    }
   ],
   "source": [
    "def find_peak_element(nums):\n",
    "    left, right = 0, len(nums) - 1\n",
    "\n",
    "    while left < right:\n",
    "        mid = left + (right - left) // 2\n",
    "\n",
    "        if nums[mid] > nums[mid + 1]:\n",
    "            # The peak element must be in the left half\n",
    "            right = mid\n",
    "        else:\n",
    "            # The peak element must be in the right half (or mid itself)\n",
    "            left = mid + 1\n",
    "\n",
    "    # 'left' is now the index of the peak element\n",
    "    return left\n",
    "\n",
    "# Example usage:\n",
    "nums = [1, 2, 3, 1]\n",
    "result = find_peak_element(nums)\n",
    "print(result)\n"
   ]
  },
  {
   "cell_type": "markdown",
   "id": "3ad346dd-b1bf-4f16-bff4-a9e8449502ec",
   "metadata": {},
   "source": [
    "In this example, the find_peak_element function uses a binary search approach. It compares the middle element (nums[mid]) with its adjacent element to determine whether the peak element must be in the left half or the right half. The pointers are adjusted accordingly.\n",
    "\n",
    "The output for the given example would be 2, indicating that the peak element is at index 2 in the array"
   ]
  },
  {
   "cell_type": "markdown",
   "id": "291f96a1-81f6-4689-89d6-ba2616b9a2b9",
   "metadata": {},
   "source": [
    "Problem 18: Given a m x n matrix where each row and column is sorted in ascending order, count the number\n",
    "of negative numbers.Input: grid = [[4, 3, 2, -1], [3, 2, 1, -1], [1, 1, -1, -2], [-1, -1, -2, -3]]\n",
    "Output: 8"
   ]
  },
  {
   "cell_type": "markdown",
   "id": "e4d6a01e-a754-46f5-8da0-d23f765807da",
   "metadata": {},
   "source": [
    "\n",
    "To count the number of negative numbers in a sorted matrix, you can use the following approach:\n",
    "\n",
    "Start from the top-right corner of the matrix.\n",
    "If the current element is negative, then all elements in its column are negative. Move to the left.\n",
    "If the current element is non-negative, then all elements in its row are non-negative. Move down.\n",
    "Here's a Python function that implements this algorithm:"
   ]
  },
  {
   "cell_type": "code",
   "execution_count": 18,
   "id": "97eb58f2-8743-4066-bb74-06d7a8c46fb8",
   "metadata": {},
   "outputs": [
    {
     "name": "stdout",
     "output_type": "stream",
     "text": [
      "8\n"
     ]
    }
   ],
   "source": [
    "def count_negatives(matrix):\n",
    "    rows, cols = len(matrix), len(matrix[0])\n",
    "    count = 0\n",
    "    row, col = 0, cols - 1\n",
    "\n",
    "    while row < rows and col >= 0:\n",
    "        if matrix[row][col] < 0:\n",
    "            # All elements in the current column are negative\n",
    "            count += rows - row\n",
    "            col -= 1\n",
    "        else:\n",
    "            # Move down to the next row\n",
    "            row += 1\n",
    "\n",
    "    return count\n",
    "\n",
    "# Example usage:\n",
    "grid = [\n",
    "    [4, 3, 2, -1],\n",
    "    [3, 2, 1, -1],\n",
    "    [1, 1, -1, -2],\n",
    "    [-1, -1, -2, -3]\n",
    "]\n",
    "result = count_negatives(grid)\n",
    "print(result)\n"
   ]
  },
  {
   "cell_type": "markdown",
   "id": "cec9bb19-2937-4c13-b2c0-a6377129f440",
   "metadata": {},
   "source": [
    "In this example, the count_negatives function starts from the top-right corner of the matrix and moves left or down based on the comparison of the current element with zero. The count is updated whenever a negative element is encountered. The output for the given example would be 8."
   ]
  },
  {
   "cell_type": "markdown",
   "id": "30b0c191-0dde-4a29-9e6f-4e1c4d8df9e4",
   "metadata": {},
   "source": [
    "Problem 19: Given a 2D matrix sorted in ascending order in each row, and the first integer of each row is\n",
    "greater than the last integer of the previous row, determine if a target value is present in the matrix.Input: matrix = [[1, 3, 5, 7], [10, 11, 16, 20], [23, 30, 34, 60]], target = 3\n",
    "Output: True"
   ]
  },
  {
   "cell_type": "markdown",
   "id": "2974c404-bffd-4364-a585-f25539b89970",
   "metadata": {},
   "source": [
    "To determine if a target value is present in a 2D matrix sorted in ascending order in each row, you can use a binary search approach. Here's a Python function that does this:"
   ]
  },
  {
   "cell_type": "code",
   "execution_count": 19,
   "id": "7f48a437-748b-41c1-ac92-97350fd4356c",
   "metadata": {},
   "outputs": [
    {
     "name": "stdout",
     "output_type": "stream",
     "text": [
      "True\n"
     ]
    }
   ],
   "source": [
    "def search_matrix(matrix, target):\n",
    "    if not matrix or not matrix[0]:\n",
    "        return False\n",
    "\n",
    "    rows, cols = len(matrix), len(matrix[0])\n",
    "    left, right = 0, rows * cols - 1\n",
    "\n",
    "    while left <= right:\n",
    "        mid = (left + right) // 2\n",
    "        mid_value = matrix[mid // cols][mid % cols]\n",
    "\n",
    "        if mid_value == target:\n",
    "            return True\n",
    "        elif mid_value < target:\n",
    "            left = mid + 1\n",
    "        else:\n",
    "            right = mid - 1\n",
    "\n",
    "    return False\n",
    "\n",
    "# Example usage:\n",
    "matrix = [\n",
    "    [1, 3, 5, 7],\n",
    "    [10, 11, 16, 20],\n",
    "    [23, 30, 34, 60]\n",
    "]\n",
    "target = 3\n",
    "result = search_matrix(matrix, target)\n",
    "print(result)\n"
   ]
  },
  {
   "cell_type": "markdown",
   "id": "50433c78-1001-4b24-964f-8fb6d2ff51ef",
   "metadata": {},
   "source": [
    "In this example, the search_matrix function treats the 2D matrix as a 1D array and performs binary search on it. It calculates the row and column indices based on the mid index. The pointers are adjusted according to the comparison of the mid element with the target value.\n",
    "\n",
    "The output for the given example would be True, indicating that the target value 3 is present in the matrix."
   ]
  },
  {
   "cell_type": "markdown",
   "id": "044140d4-d85f-46c0-98bc-4c5f03d63575",
   "metadata": {},
   "source": [
    "Problem 20: Find Median in Two Sorted Arrays\n",
    "Problem: Given two sorted arrays, find the median of the combined sorted array.Input: nums1 = [1, 3], nums2 = [2]\n",
    "Output: 2.0"
   ]
  },
  {
   "cell_type": "markdown",
   "id": "4e352598-ea79-4c27-a326-d4bcef1a9a75",
   "metadata": {},
   "source": [
    "\n",
    "To find the median of two sorted arrays, you can merge the arrays and calculate the median based on the merged result. Here's a Python function that does this:"
   ]
  },
  {
   "cell_type": "code",
   "execution_count": 20,
   "id": "391d8a19-e913-4447-b28e-4f5453c7c87d",
   "metadata": {},
   "outputs": [
    {
     "name": "stdout",
     "output_type": "stream",
     "text": [
      "2.0\n"
     ]
    }
   ],
   "source": [
    "def findMedianSortedArrays(nums1, nums2):\n",
    "    merged = []\n",
    "    i, j = 0, 0\n",
    "\n",
    "    while i < len(nums1) and j < len(nums2):\n",
    "        if nums1[i] < nums2[j]:\n",
    "            merged.append(nums1[i])\n",
    "            i += 1\n",
    "        else:\n",
    "            merged.append(nums2[j])\n",
    "            j += 1\n",
    "\n",
    "    merged.extend(nums1[i:])\n",
    "    merged.extend(nums2[j:])\n",
    "\n",
    "    total_length = len(merged)\n",
    "    mid = total_length // 2\n",
    "\n",
    "    if total_length % 2 == 0:\n",
    "        # If the total length is even, return the average of the middle elements\n",
    "        return (merged[mid - 1] + merged[mid]) / 2.0\n",
    "    else:\n",
    "        # If the total length is odd, return the middle element\n",
    "        return float(merged[mid])\n",
    "\n",
    "# Example usage:\n",
    "nums1 = [1, 3]\n",
    "nums2 = [2]\n",
    "result = findMedianSortedArrays(nums1, nums2)\n",
    "print(result)\n"
   ]
  },
  {
   "cell_type": "markdown",
   "id": "492ae4ad-e131-4069-8f66-0db7c167bfb1",
   "metadata": {},
   "source": [
    "In this example, the findMedianSortedArrays function merges the two sorted arrays (nums1 and nums2) and calculates the median based on the length of the merged array. If the total length is even, it returns the average of the middle elements; if the total length is odd, it returns the middle element.\n",
    "\n",
    "The output for the given example would be 2.0, indicating that the median of the combined sorted array is 2.0."
   ]
  },
  {
   "cell_type": "markdown",
   "id": "4e87bc46-534f-4ef6-be4b-dbbb70d2bc10",
   "metadata": {},
   "source": [
    "Problem 21: Given a sorted character array and a target letter, find the smallest letter in the array that is\n",
    "greater than the target."
   ]
  },
  {
   "cell_type": "markdown",
   "id": "e2f2618e-3556-4784-b3a3-8a910f12c860",
   "metadata": {},
   "source": [
    "Input: letters = ['c', 'f', 'j'], target = a\n",
    "Output: 'c'"
   ]
  },
  {
   "cell_type": "markdown",
   "id": "1bed628e-6c17-48ff-b3ad-bcf030cb2f0b",
   "metadata": {},
   "source": [
    "\n",
    "I apologize for the confusion in my previous response. The corrected code for the problem is as follows:"
   ]
  },
  {
   "cell_type": "code",
   "execution_count": 21,
   "id": "f1ae95d2-2f14-48a0-95d0-4ce892ff6b1d",
   "metadata": {},
   "outputs": [
    {
     "name": "stdout",
     "output_type": "stream",
     "text": [
      "c\n"
     ]
    }
   ],
   "source": [
    "def nextGreatestLetter(letters, target):\n",
    "    left, right = 0, len(letters) - 1\n",
    "\n",
    "    while left <= right:\n",
    "        mid = left + (right - left) // 2\n",
    "\n",
    "        if letters[mid] <= target:\n",
    "            left = mid + 1\n",
    "        else:\n",
    "            right = mid - 1\n",
    "\n",
    "    # If the target is greater than or equal to all letters, return the first letter\n",
    "    return letters[left % len(letters)]\n",
    "\n",
    "# Example usage:\n",
    "letters = ['c', 'f', 'j']\n",
    "target = 'a'\n",
    "result = nextGreatestLetter(letters, target)\n",
    "print(result)\n"
   ]
  },
  {
   "cell_type": "markdown",
   "id": "209e4ef8-4d42-43fa-8df8-f12110dd97ac",
   "metadata": {},
   "source": [
    "In this corrected version, the binary search is performed with left initialized to 0 and right initialized to len(letters) - 1. The condition in the while loop is changed to left <= right.\n",
    "\n",
    "The output for the given example would still be 'c', indicating that the smallest letter greater than 'a' in the array is 'c'."
   ]
  },
  {
   "cell_type": "markdown",
   "id": "4518dba2-fe58-43d0-a120-058ca5e321a8",
   "metadata": {},
   "source": [
    "Problem 22: Given an array with n objects colored red, white, or blue, sort them in-place so that objects of\n",
    "the same color are adjacent, with the colors in the order red, white, and blue.Input: nums = [2, 0, 2, 1, 1, 0]\n",
    "Output: [0, 0, 1, 1, 2, 2]"
   ]
  },
  {
   "cell_type": "markdown",
   "id": "8b3410de-b9ca-43bc-a6cb-ebfd709031d5",
   "metadata": {},
   "source": [
    "\n",
    "This problem is known as the Dutch National Flag problem. You can solve it using the Dutch Partitioning Algorithm, which maintains three pointers: one for the current position (curr), one for the position of the last 0 encountered (low), and one for the position of the last 2 encountered (high). Here's a Python implementation:"
   ]
  },
  {
   "cell_type": "code",
   "execution_count": 22,
   "id": "ac845fb4-5b2a-4099-b717-83c37997a765",
   "metadata": {},
   "outputs": [
    {
     "name": "stdout",
     "output_type": "stream",
     "text": [
      "[0, 0, 1, 1, 2, 2]\n"
     ]
    }
   ],
   "source": [
    "def sortColors(nums):\n",
    "    low, curr, high = 0, 0, len(nums) - 1\n",
    "\n",
    "    while curr <= high:\n",
    "        if nums[curr] == 0:\n",
    "            nums[curr], nums[low] = nums[low], nums[curr]\n",
    "            curr += 1\n",
    "            low += 1\n",
    "        elif nums[curr] == 2:\n",
    "            nums[curr], nums[high] = nums[high], nums[curr]\n",
    "            high -= 1\n",
    "        else:\n",
    "            curr += 1\n",
    "\n",
    "# Example usage:\n",
    "nums = [2, 0, 2, 1, 1, 0]\n",
    "sortColors(nums)\n",
    "print(nums)\n"
   ]
  },
  {
   "cell_type": "markdown",
   "id": "01405c25-899f-44e4-b283-8bf8b7b924c8",
   "metadata": {},
   "source": [
    "In this example, the sortColors function uses three pointers (low, curr, and high) to iterate through the array and swap elements accordingly. The output for the given example would be [0, 0, 1, 1, 2, 2], indicating that the array is sorted in-place with the order red (0), white (1), and blue (2)."
   ]
  },
  {
   "cell_type": "markdown",
   "id": "e33e3cb9-73ea-40c0-b447-16809e2bf824",
   "metadata": {},
   "source": [
    "Problem 23: Find the kth largest element in an unsorted array.Input: nums = [3, 2, 1, 5, 6, 4], k = 2\n",
    "Output: 5"
   ]
  },
  {
   "cell_type": "markdown",
   "id": "a450710d-9db1-4826-a5b4-36a121181336",
   "metadata": {},
   "source": [
    "\n",
    "You can find the kth largest element in an unsorted array using various approaches. One common approach is to use the quickselect algorithm, which is similar to the quicksort algorithm but only recursively explores the partition that contains the desired element.\n",
    "\n",
    "Here's a Python implementation:"
   ]
  },
  {
   "cell_type": "code",
   "execution_count": 23,
   "id": "465f3aba-1d97-4bd4-957a-46daf53a1454",
   "metadata": {},
   "outputs": [
    {
     "name": "stdout",
     "output_type": "stream",
     "text": [
      "5\n"
     ]
    }
   ],
   "source": [
    "def findKthLargest(nums, k):\n",
    "    if not nums or k > len(nums) or k <= 0:\n",
    "        return None\n",
    "\n",
    "    def partition(left, right):\n",
    "        pivot = nums[right]\n",
    "        i = left - 1\n",
    "\n",
    "        for j in range(left, right):\n",
    "            if nums[j] >= pivot:\n",
    "                i += 1\n",
    "                nums[i], nums[j] = nums[j], nums[i]\n",
    "\n",
    "        nums[i + 1], nums[right] = nums[right], nums[i + 1]\n",
    "        return i + 1\n",
    "\n",
    "    def quickselect(left, right, k):\n",
    "        if left <= right:\n",
    "            pivot_index = partition(left, right)\n",
    "\n",
    "            if pivot_index == k - 1:\n",
    "                return nums[pivot_index]\n",
    "            elif pivot_index < k - 1:\n",
    "                return quickselect(pivot_index + 1, right, k)\n",
    "            else:\n",
    "                return quickselect(left, pivot_index - 1, k)\n",
    "\n",
    "    return quickselect(0, len(nums) - 1, k)\n",
    "\n",
    "# Example usage:\n",
    "nums = [3, 2, 1, 5, 6, 4]\n",
    "k = 2\n",
    "result = findKthLargest(nums, k)\n",
    "print(result)\n"
   ]
  },
  {
   "cell_type": "markdown",
   "id": "d587dfcd-0905-4a35-8914-e9dec16c68f9",
   "metadata": {},
   "source": [
    "In this example, the findKthLargest function uses the quickselect algorithm to find the kth largest element in the array. The output for the given example would be 5, indicating that the 2nd largest element in the array is 5."
   ]
  },
  {
   "cell_type": "markdown",
   "id": "9a8e005d-8200-414b-991e-e9158813d36b",
   "metadata": {},
   "source": [
    "Problem 24: Given an unsorted array, reorder it in-place such that nums[0] <= nums[1] >= nums[2] <=\n",
    "nums[3]...Input: nums = [3, 5, 2, 1, 6, 4]\n",
    "Output: [3, 5, 1, 6, 2, 4]"
   ]
  },
  {
   "cell_type": "markdown",
   "id": "8148c302-3db6-44ee-b255-a9c5946433d4",
   "metadata": {},
   "source": [
    "To reorder the array in-place such that nums[0] <= nums[1] >= nums[2] <= nums[3]..., you can iterate through the array and swap adjacent elements to satisfy the condition. Here's a Python implementation:"
   ]
  },
  {
   "cell_type": "code",
   "execution_count": 24,
   "id": "1ead7244-5336-4bd0-9902-2b11157b7e09",
   "metadata": {},
   "outputs": [
    {
     "name": "stdout",
     "output_type": "stream",
     "text": [
      "[3, 5, 1, 6, 2, 4]\n"
     ]
    }
   ],
   "source": [
    "def wiggleSort(nums):\n",
    "    for i in range(len(nums) - 1):\n",
    "        if (i % 2 == 0 and nums[i] > nums[i + 1]) or (i % 2 == 1 and nums[i] < nums[i + 1]):\n",
    "            nums[i], nums[i + 1] = nums[i + 1], nums[i]\n",
    "\n",
    "# Example usage:\n",
    "nums = [3, 5, 2, 1, 6, 4]\n",
    "wiggleSort(nums)\n",
    "print(nums)\n"
   ]
  },
  {
   "cell_type": "markdown",
   "id": "85924b1b-b008-48a1-88c7-b30b63c82795",
   "metadata": {},
   "source": [
    "In this example, the wiggleSort function iterates through the array and checks whether the current pair of elements satisfies the condition (nums[0] <= nums[1] >= nums[2] <= nums[3]...). If not, it swaps the elements to reorder them. The output for the given example would be [3, 5, 1, 6, 2, 4]."
   ]
  },
  {
   "cell_type": "markdown",
   "id": "3925eee9-e4b7-463d-a0e8-5ad0d45d8322",
   "metadata": {},
   "source": [
    "Problem 25: Given an array of integers, calculate the sum of all its elements.Input: [1, 2, 3, 4, 5]\n",
    "Output: 15"
   ]
  },
  {
   "cell_type": "markdown",
   "id": "8f6bae3b-1651-45ae-8c5e-983a25d6c2fa",
   "metadata": {},
   "source": [
    "You can calculate the sum of all elements in an array using the built-in sum function in Python. Here's a simple example:"
   ]
  },
  {
   "cell_type": "code",
   "execution_count": 25,
   "id": "7ad89614-37a4-4d61-8d9d-723a44c1aeed",
   "metadata": {},
   "outputs": [
    {
     "name": "stdout",
     "output_type": "stream",
     "text": [
      "15\n"
     ]
    }
   ],
   "source": [
    "def calculate_sum(nums):\n",
    "    return sum(nums)\n",
    "\n",
    "# Example usage:\n",
    "nums = [1, 2, 3, 4, 5]\n",
    "result = calculate_sum(nums)\n",
    "print(result)\n"
   ]
  },
  {
   "cell_type": "markdown",
   "id": "5901a61a-26fb-48d9-b097-70bba98364cc",
   "metadata": {},
   "source": [
    "In this example, the calculate_sum function simply uses the sum function to calculate the sum of all elements in the given array. The output for the given example would be 15."
   ]
  },
  {
   "cell_type": "markdown",
   "id": "fbda5dfb-03fe-494a-9630-5aac07fa4ace",
   "metadata": {},
   "source": [
    "Problem 26: Find the maximum element in an array of integers.Input: [3, 7, 2, 9, 4, 1]\n",
    "Output: 9"
   ]
  },
  {
   "cell_type": "markdown",
   "id": "cc5af0fc-a284-492f-9dd6-85f32d0cc1ab",
   "metadata": {},
   "source": [
    "You can find the maximum element in an array of integers using the built-in max function in Python. Here's a simple example:"
   ]
  },
  {
   "cell_type": "code",
   "execution_count": 26,
   "id": "b69cf5b9-35d3-4b72-9bcf-ae829f2e39dc",
   "metadata": {},
   "outputs": [
    {
     "name": "stdout",
     "output_type": "stream",
     "text": [
      "9\n"
     ]
    }
   ],
   "source": [
    "def find_maximum(nums):\n",
    "    return max(nums)\n",
    "\n",
    "# Example usage:\n",
    "nums = [3, 7, 2, 9, 4, 1]\n",
    "result = find_maximum(nums)\n",
    "print(result)\n"
   ]
  },
  {
   "cell_type": "markdown",
   "id": "9d4e79e3-f1eb-4b05-8d70-e36ccd565240",
   "metadata": {},
   "source": [
    "In this example, the find_maximum function uses the max function to find the maximum element in the given array. The output for the given example would be 9."
   ]
  },
  {
   "cell_type": "markdown",
   "id": "3081aaf7-1857-46ee-a4a1-e007e5efa4bd",
   "metadata": {},
   "source": [
    "Problem 27: Implement linear search to find the index of a target element in an array.Input: [5, 3, 8, 2, 7, 4], target = 8\n",
    "Output: 2"
   ]
  },
  {
   "cell_type": "markdown",
   "id": "3d3ab476-99df-4f02-a0da-c7dd6c7a7dc2",
   "metadata": {},
   "source": [
    "Certainly! Here is a simple implementation of linear search in Python:"
   ]
  },
  {
   "cell_type": "code",
   "execution_count": 27,
   "id": "dc7b6bd8-2ddf-4f78-a309-27cfc8707776",
   "metadata": {},
   "outputs": [
    {
     "name": "stdout",
     "output_type": "stream",
     "text": [
      "The target 8 is found at index 2.\n"
     ]
    }
   ],
   "source": [
    "def linear_search(nums, target):\n",
    "    for i in range(len(nums)):\n",
    "        if nums[i] == target:\n",
    "            return i\n",
    "    return -1  # Return -1 if the target is not found in the array\n",
    "\n",
    "# Example usage:\n",
    "nums = [5, 3, 8, 2, 7, 4]\n",
    "target = 8\n",
    "result = linear_search(nums, target)\n",
    "\n",
    "if result != -1:\n",
    "    print(f\"The target {target} is found at index {result}.\")\n",
    "else:\n",
    "    print(f\"The target {target} is not found in the array.\")\n"
   ]
  },
  {
   "cell_type": "markdown",
   "id": "8df5a3e0-72c2-4ccf-bc93-2df3c94bc8f7",
   "metadata": {},
   "source": [
    "In this example, the linear_search function iterates through the array linearly and returns the index of the target element if found. If the target is not found, it returns -1. The output for the given example would be \"The target 8 is found at index 2.\""
   ]
  },
  {
   "cell_type": "markdown",
   "id": "885cc46a-acb8-4ab0-93ff-7771064b135a",
   "metadata": {},
   "source": [
    "Problem 28 Calculate the factorial of a given number.Input: 5\n",
    "Output: 120 (as 5! = 5 * 4 * 3 * 2 * 1 = 120)"
   ]
  },
  {
   "cell_type": "markdown",
   "id": "e2663044-11a7-41df-a2b8-9b2d3395d8e8",
   "metadata": {},
   "source": [
    "You can calculate the factorial of a given number using a recursive or iterative approach. Here is an example using an iterative approach:"
   ]
  },
  {
   "cell_type": "code",
   "execution_count": 28,
   "id": "10cac616-850d-44de-b580-4c4f9d3d9dbc",
   "metadata": {},
   "outputs": [
    {
     "name": "stdout",
     "output_type": "stream",
     "text": [
      "The factorial of 5 is 120.\n"
     ]
    }
   ],
   "source": [
    "def factorial_iterative(n):\n",
    "    result = 1\n",
    "    for i in range(1, n + 1):\n",
    "        result *= i\n",
    "    return result\n",
    "\n",
    "# Example usage:\n",
    "input_number = 5\n",
    "result = factorial_iterative(input_number)\n",
    "print(f\"The factorial of {input_number} is {result}.\")\n"
   ]
  },
  {
   "cell_type": "markdown",
   "id": "d79cab8f-5027-483b-9672-649d5daccce1",
   "metadata": {},
   "source": [
    "In this example, the factorial_iterative function calculates the factorial of a given number using an iterative loop. The output for the given example would be \"The factorial of 5 is 120.\""
   ]
  },
  {
   "cell_type": "markdown",
   "id": "efc40b8a-da13-4a1b-b3d5-793f2dfa589d",
   "metadata": {},
   "source": [
    "If you prefer a recursive approach, here's an example:"
   ]
  },
  {
   "cell_type": "code",
   "execution_count": 29,
   "id": "632dab08-cfb4-435c-b41b-ef2489cdd49d",
   "metadata": {},
   "outputs": [
    {
     "name": "stdout",
     "output_type": "stream",
     "text": [
      "The factorial of 5 is 120.\n"
     ]
    }
   ],
   "source": [
    "def factorial_recursive(n):\n",
    "    if n == 0 or n == 1:\n",
    "        return 1\n",
    "    else:\n",
    "        return n * factorial_recursive(n - 1)\n",
    "\n",
    "# Example usage:\n",
    "input_number = 5\n",
    "result = factorial_recursive(input_number)\n",
    "print(f\"The factorial of {input_number} is {result}.\")\n"
   ]
  },
  {
   "cell_type": "markdown",
   "id": "511db8cf-3ee9-4de5-b335-ae55866c8ae3",
   "metadata": {},
   "source": [
    "Both the iterative and recursive approaches will give you the same result."
   ]
  },
  {
   "cell_type": "markdown",
   "id": "a44e9c91-0aad-4e15-8e12-3c465f6e9471",
   "metadata": {},
   "source": [
    "Problem 29: Check if a given number is a prime number.Input: 7\n",
    "Output: True"
   ]
  },
  {
   "cell_type": "markdown",
   "id": "8318b64a-29fe-4b8a-b5ec-3935dfb14bed",
   "metadata": {},
   "source": [
    "\n",
    "Certainly! You can check if a given number is a prime number by iterating from 2 to the square root of the number and checking if it has any divisors other than 1 and itself. Here's a function in Python to determine whether a number is prime:"
   ]
  },
  {
   "cell_type": "code",
   "execution_count": 30,
   "id": "d5be649b-9242-4cf7-b1b4-f265c6dc9cb7",
   "metadata": {},
   "outputs": [
    {
     "name": "stdout",
     "output_type": "stream",
     "text": [
      "7 is prime: True\n"
     ]
    }
   ],
   "source": [
    "import math\n",
    "\n",
    "def is_prime(number):\n",
    "    if number < 2:\n",
    "        return False\n",
    "    for i in range(2, int(math.sqrt(number)) + 1):\n",
    "        if number % i == 0:\n",
    "            return False\n",
    "    return True\n",
    "\n",
    "# Example usage:\n",
    "input_number = 7\n",
    "result = is_prime(input_number)\n",
    "print(f\"{input_number} is prime: {result}\")\n"
   ]
  },
  {
   "cell_type": "markdown",
   "id": "ee04e07a-a285-4ca2-9dd5-e8b3b8c2bc2c",
   "metadata": {},
   "source": [
    "In this example, the is_prime function returns True if the input number is a prime number and False otherwise. The output for the given example would be \"7 is prime: True\"."
   ]
  },
  {
   "cell_type": "markdown",
   "id": "02192292-090a-48c3-aa34-374f20073917",
   "metadata": {},
   "source": [
    "Problem 30: Generate the Fibonacci series up to a given number n.Input: 8\n",
    "Output: [0, 1, 1, 2, 3, 5, 8, 13]"
   ]
  },
  {
   "cell_type": "markdown",
   "id": "ff65edaf-5b05-4f17-9442-ed9adf9fe609",
   "metadata": {},
   "source": [
    "Certainly! You can generate the Fibonacci series up to a given number n. Here's a Python function to achieve this:"
   ]
  },
  {
   "cell_type": "code",
   "execution_count": 31,
   "id": "2939f281-baed-4ae1-9a97-a481b7c7402b",
   "metadata": {},
   "outputs": [
    {
     "name": "stdout",
     "output_type": "stream",
     "text": [
      "[0, 1, 1, 2, 3, 5, 8]\n"
     ]
    }
   ],
   "source": [
    "def generate_fibonacci(n):\n",
    "    fibonacci_series = [0, 1]\n",
    "    \n",
    "    while fibonacci_series[-1] + fibonacci_series[-2] <= n:\n",
    "        next_term = fibonacci_series[-1] + fibonacci_series[-2]\n",
    "        fibonacci_series.append(next_term)\n",
    "    \n",
    "    return fibonacci_series\n",
    "\n",
    "# Example usage:\n",
    "input_number = 8\n",
    "result = generate_fibonacci(input_number)\n",
    "print(result)\n"
   ]
  },
  {
   "cell_type": "markdown",
   "id": "551019a0-8942-4af5-953f-2a6b843938c4",
   "metadata": {},
   "source": [
    "In this example, the generate_fibonacci function generates the Fibonacci series up to the given number n. The output for the given example would be [0, 1, 1, 2, 3, 5, 8], which is the Fibonacci series up to the largest term that does not exceed 8."
   ]
  },
  {
   "cell_type": "markdown",
   "id": "9a360334-6032-48c8-b44f-81b42a642e51",
   "metadata": {},
   "source": [
    "Problem 31: Calculate the power of a number using recursion.Input: base = 3, exponent = 4\n",
    "Output: 81 (as 3^4 = 3 * 3 * 3 * 3 = 81)"
   ]
  },
  {
   "cell_type": "markdown",
   "id": "1b8dc519-0a48-4776-9065-27718c47f84a",
   "metadata": {},
   "source": [
    "\n",
    "Certainly! You can calculate the power of a number using recursion. Here's a Python function to compute the power of a number:"
   ]
  },
  {
   "cell_type": "code",
   "execution_count": 32,
   "id": "cb935c0f-4d24-4389-a375-5af66057542f",
   "metadata": {},
   "outputs": [
    {
     "name": "stdout",
     "output_type": "stream",
     "text": [
      "3^4 = 81\n"
     ]
    }
   ],
   "source": [
    "def power(base, exponent):\n",
    "    if exponent == 0:\n",
    "        return 1\n",
    "    else:\n",
    "        return base * power(base, exponent - 1)\n",
    "\n",
    "# Example usage:\n",
    "base = 3\n",
    "exponent = 4\n",
    "result = power(base, exponent)\n",
    "print(f\"{base}^{exponent} = {result}\")\n"
   ]
  },
  {
   "cell_type": "markdown",
   "id": "ec013a6c-5eb0-4773-a3a1-bef5a73101f8",
   "metadata": {},
   "source": [
    "In this example, the power function recursively calculates the power of a number. The output for the given example would be \"3^4 = 81\"."
   ]
  },
  {
   "cell_type": "markdown",
   "id": "89a34b3a-dca4-4f29-ad7a-fd00957ed711",
   "metadata": {},
   "source": [
    "Problem 32: Reverse a given string.Input: \"hello\"\n",
    "Output: \"olleh\""
   ]
  },
  {
   "cell_type": "markdown",
   "id": "dc253493-f380-4599-8fe3-b5c1fbbd1114",
   "metadata": {},
   "source": [
    "\n",
    "You can reverse a string in Python using slicing. Here's a simple example:"
   ]
  },
  {
   "cell_type": "code",
   "execution_count": 33,
   "id": "e3c2a455-08b2-44b3-ac94-8124cdd84aea",
   "metadata": {},
   "outputs": [
    {
     "name": "stdout",
     "output_type": "stream",
     "text": [
      "olleh\n"
     ]
    }
   ],
   "source": [
    "def reverse_string(input_str):\n",
    "    return input_str[::-1]\n",
    "\n",
    "# Example usage:\n",
    "input_string = \"hello\"\n",
    "result = reverse_string(input_string)\n",
    "print(result)\n"
   ]
  },
  {
   "cell_type": "markdown",
   "id": "659c4137-0b38-4365-ac4a-0abcd90de3de",
   "metadata": {},
   "source": [
    "In this example, the reverse_string function takes an input string and uses slicing with [::-1] to reverse the string. The output for the given example would be \"olleh\""
   ]
  },
  {
   "cell_type": "code",
   "execution_count": null,
   "id": "2c9b7ef6-7113-49af-8e31-179d9ddf09dd",
   "metadata": {},
   "outputs": [],
   "source": [
    "#complete dsa assignment"
   ]
  }
 ],
 "metadata": {
  "kernelspec": {
   "display_name": "Python 3 (ipykernel)",
   "language": "python",
   "name": "python3"
  },
  "language_info": {
   "codemirror_mode": {
    "name": "ipython",
    "version": 3
   },
   "file_extension": ".py",
   "mimetype": "text/x-python",
   "name": "python",
   "nbconvert_exporter": "python",
   "pygments_lexer": "ipython3",
   "version": "3.11.5"
  }
 },
 "nbformat": 4,
 "nbformat_minor": 5
}
